{
 "cells": [
  {
   "cell_type": "code",
   "execution_count": 1,
   "metadata": {},
   "outputs": [
    {
     "name": "stdout",
     "output_type": "stream",
     "text": [
      "111\n"
     ]
    }
   ],
   "source": [
    "import csv\n",
    "from datetime import datetime\n",
    "\n",
    "with open(\"虚拟.txt\", \"r\") as f:\n",
    "    data = f.read()\n",
    "\n",
    "rows = []\n",
    "for data_group in data.split(\"\\\\n\\\\n\"):  # 按空行分割每个数据组\n",
    "    print(111)\n",
    "    for line in data_group.split(\"\\\\n\"):\n",
    "        if \"Timestamp\" in line:\n",
    "            timestamp = datetime.strptime(line.split(\"{\")[-1].split(\"}\")[0], \"%H:%M:%S.%f\")\n",
    "            data_values = [int(x) for x in line.split(\"Data{\")[-1].split(\"}\")[0].split(\",\")]\n",
    "            rows.append([timestamp] + data_values)\n",
    "\n",
    "\n",
    "with open(\"output.csv\", \"w\", newline=\"\") as csvfile:\n",
    "    writer = csv.writer(csvfile)\n",
    "    writer.writerow([\"Timestamp\"] + [f\"Data{i}\" for i in range(len(rows[0]) - 1)])\n",
    "    writer.writerows(rows)"
   ]
  },
  {
   "cell_type": "code",
   "execution_count": 4,
   "metadata": {},
   "outputs": [],
   "source": [
    "\n",
    "import numpy as np\n",
    "import pandas as pd\n",
    "\n",
    "file = open(\"真实.txt\",\"r\")\n",
    "\n",
    "rows = []\n",
    "lines = file.readlines()\n",
    "for line in lines:\n",
    "    if \"Data\" in line:\n",
    "        data_values = []\n",
    "        data_values = [int(x) for x in line.split(\"Data{\")[-1].split(\"}\")[0].split(\",\")]\n",
    "        timestamps = line.split(\"Timestamp{\")[-1].split(\".\")[0]\n",
    "        row = [timestamps] + data_values\n",
    "        rows.append(row)\n",
    "\n",
    "rows = np.array(rows)\n",
    "dataframe = pd.DataFrame({\n",
    "    'time':rows[:,0],\n",
    "    'CO2':rows[:,1],\n",
    "    \"TVOC\":rows[:,2],\n",
    "    \"CH2O\":rows[:,3],\n",
    "    \"PM2.5\":rows[:,4],\n",
    "    \"humidity\":rows[:,5],\n",
    "    \"temperature\":rows[:,6],\n",
    "    \"PM10\":rows[:,7],\n",
    "    \"PM1.0\":rows[:,8],\n",
    "    \"LUX\":rows[:,9],\n",
    "    \"MCU\":rows[:,10],\n",
    "    \"noise\":rows[:,11]\n",
    "})\n",
    "\n",
    "dataframe.to_csv('real.csv',index=False,sep=',')\n",
    "\n"
   ]
  }
 ],
 "metadata": {
  "kernelspec": {
   "display_name": "Python 3",
   "language": "python",
   "name": "python3"
  },
  "language_info": {
   "codemirror_mode": {
    "name": "ipython",
    "version": 3
   },
   "file_extension": ".py",
   "mimetype": "text/x-python",
   "name": "python",
   "nbconvert_exporter": "python",
   "pygments_lexer": "ipython3",
   "version": "3.10.5"
  }
 },
 "nbformat": 4,
 "nbformat_minor": 2
}
